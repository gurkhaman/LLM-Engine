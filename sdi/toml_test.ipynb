{
 "cells": [
  {
   "cell_type": "code",
   "execution_count": 1,
   "metadata": {},
   "outputs": [],
   "source": [
    "import tomllib"
   ]
  },
  {
   "cell_type": "code",
   "execution_count": 2,
   "metadata": {},
   "outputs": [
    {
     "data": {
      "text/plain": [
       "{'description': \"You are an AI assistant, expert at requirement decomposition and service composition. \\nYou are provided with various services that might be fit for fulfilling the user's request. \\nYour job is to break down the user's request and select the appropriate services that will fulfill the decomposed tasks. \\nIf there are not suitable services available to fit the user's requirements, say that it is not possible to do so. \\nYou should give your answer in a structured JSON output with clear indication of tasks, selected services, and any dependencies (file, values) between these tasks. \\n{context}\\nQuestion: {question}\\nHelpful Answer: \\n\"}"
      ]
     },
     "execution_count": 2,
     "metadata": {},
     "output_type": "execute_result"
    }
   ],
   "source": [
    "toml_filepath = \"prompts.toml\"\n",
    "with open(toml_filepath, \"rb\") as file:\n",
    "    data = tomllib.load(file)\n",
    "\n",
    "data"
   ]
  },
  {
   "cell_type": "code",
   "execution_count": 3,
   "metadata": {},
   "outputs": [
    {
     "data": {
      "text/plain": [
       "\"You are an AI assistant, expert at requirement decomposition and service composition. \\nYou are provided with various services that might be fit for fulfilling the user's request. \\nYour job is to break down the user's request and select the appropriate services that will fulfill the decomposed tasks. \\nIf there are not suitable services available to fit the user's requirements, say that it is not possible to do so. \\nYou should give your answer in a structured JSON output with clear indication of tasks, selected services, and any dependencies (file, values) between these tasks. \\nHere is some contextual information about the services.\\nQuestion: What is the best way to achieve X?\\nHelpful Answer: \\n\""
      ]
     },
     "execution_count": 3,
     "metadata": {},
     "output_type": "execute_result"
    }
   ],
   "source": [
    "template = data[\"description\"]\n",
    "\n",
    "context = \"Here is some contextual information about the services.\"\n",
    "question = \"What is the best way to achieve X?\"\n",
    "\n",
    "formatted_template = template.format(context=context, question=question)\n",
    "formatted_template"
   ]
  }
 ],
 "metadata": {
  "kernelspec": {
   "display_name": "base",
   "language": "python",
   "name": "python3"
  },
  "language_info": {
   "codemirror_mode": {
    "name": "ipython",
    "version": 3
   },
   "file_extension": ".py",
   "mimetype": "text/x-python",
   "name": "python",
   "nbconvert_exporter": "python",
   "pygments_lexer": "ipython3",
   "version": "3.11.9"
  }
 },
 "nbformat": 4,
 "nbformat_minor": 2
}
