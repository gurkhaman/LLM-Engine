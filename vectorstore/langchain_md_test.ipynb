{
 "cells": [
  {
   "cell_type": "code",
   "execution_count": 1,
   "metadata": {},
   "outputs": [],
   "source": [
    "from langchain_community.document_loaders import UnstructuredMarkdownLoader\n",
    "from langchain_core.documents import Document\n",
    "import os\n"
   ]
  },
  {
   "cell_type": "code",
   "execution_count": 15,
   "metadata": {},
   "outputs": [
    {
     "name": "stdout",
     "output_type": "stream",
     "text": [
      "license: openrail++ tags: - stable-diffusion - text-to-image\n",
      "\n",
      "Stable Diffusion v2 Model Card\n",
      "\n",
      "This model card focuses on the model associated with the Stable Diffusion v2 model, available here.\n",
      "\n",
      "This stable-diffusion-2 model is resumed from stable-di\n"
     ]
    }
   ],
   "source": [
    "md_path = \"/workspaces/composition-blueprint-engine/vectorstore/services/stable-diffusion-2.md\"\n",
    "loader = UnstructuredMarkdownLoader(md_path)\n",
    "data = loader.load()\n",
    "assert len(data) == 1\n",
    "assert isinstance(data[0], Document)\n",
    "readme_content = data[0].page_content\n",
    "print(readme_content[:250])"
   ]
  },
  {
   "cell_type": "code",
   "execution_count": 14,
   "metadata": {},
   "outputs": [
    {
     "name": "stdout",
     "output_type": "stream",
     "text": [
      "Number of documents: 92\n",
      "\n",
      "page_content='license: openrail++ tags: - stable-diffusion - text-to-image' metadata={'source': '/workspaces/composition-blueprint-engine/vectorstore/services/stable-diffusion-2.md', 'category_depth': 0, 'last_modified': '2024-09-01T07:32:57', 'languages': ['eng'], 'filetype': 'text/markdown', 'file_directory': '/workspaces/composition-blueprint-engine/vectorstore/services', 'filename': 'stable-diffusion-2.md', 'category': 'Title', 'element_id': 'a006eaa8de45bf77f46abffe5820cae9'}\n",
      "\n",
      "page_content='Stable Diffusion v2 Model Card' metadata={'source': '/workspaces/composition-blueprint-engine/vectorstore/services/stable-diffusion-2.md', 'category_depth': 0, 'last_modified': '2024-09-01T07:32:57', 'languages': ['eng'], 'filetype': 'text/markdown', 'file_directory': '/workspaces/composition-blueprint-engine/vectorstore/services', 'filename': 'stable-diffusion-2.md', 'category': 'Title', 'element_id': 'a54a75c9a9eb3c871babd089c89d4ec5'}\n",
      "\n",
      "{'Title', 'NarrativeText', 'UncategorizedText', 'ListItem'}\n"
     ]
    }
   ],
   "source": [
    "# Under the hood, Unstructured creates different \"elements\" for different chunks of text\n",
    "\n",
    "# loader = UnstructuredMarkdownLoader(md_path, mode=\"elements\")\n",
    "\n",
    "# data = loader.load()\n",
    "# print(f\"Number of documents: {len(data)}\\n\")\n",
    "\n",
    "# for document in data[:2]:\n",
    "#     print(f\"{document}\\n\")\n",
    "\n",
    "# print(set(document.metadata[\"category\"] for document in data))"
   ]
  },
  {
   "cell_type": "code",
   "execution_count": null,
   "metadata": {},
   "outputs": [],
   "source": [
    "documents = []\n",
    "md_dir = \"/workspaces/composition-blueprint-engine/vectorstore/services/\"\n",
    "\n",
    "for filename in os.listdir(md_dir):\n",
    "    if filename.endswith(\".md\"):  \n",
    "        md_path = os.path.join(md_dir, filename)\n",
    "        loader = UnstructuredMarkdownLoader(md_path)\n",
    "        data = loader.load()\n",
    "        if data and isinstance(data[0], Document):\n",
    "            documents.append(data[0])"
   ]
  }
 ],
 "metadata": {
  "kernelspec": {
   "display_name": "base",
   "language": "python",
   "name": "python3"
  },
  "language_info": {
   "codemirror_mode": {
    "name": "ipython",
    "version": 3
   },
   "file_extension": ".py",
   "mimetype": "text/x-python",
   "name": "python",
   "nbconvert_exporter": "python",
   "pygments_lexer": "ipython3",
   "version": "3.11.9"
  }
 },
 "nbformat": 4,
 "nbformat_minor": 2
}
